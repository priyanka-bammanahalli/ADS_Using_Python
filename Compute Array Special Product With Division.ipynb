{
 "cells": [
  {
   "cell_type": "code",
   "execution_count": 12,
   "id": "b8dff833-b120-4912-9249-aaf34f9f0f55",
   "metadata": {},
   "outputs": [
    {
     "name": "stdout",
     "output_type": "stream",
     "text": [
      "Original Array: [1 2 3 4 5]\n",
      "Product Array: [120]\n"
     ]
    }
   ],
   "source": [
    "import math\n",
    "import numpy as np\n",
    "def SpecialProduct_Division(arr):\n",
    "    # Step 1: Calculate the total product of all elements\n",
    "    total_product = math.prod(arr)\n",
    "    # Step 2: Create the result array and calculate each element \n",
    "    res = []\n",
    "    for num in arr:\n",
    "        res.append(total_product // num)\n",
    "        return res\n",
    "\n",
    "# Input array\n",
    "arr = np.array([1, 2, 3, 4, 5])\n",
    "print(\"Original Array:\", arr)\n",
    "\n",
    "# Calculate the special product array\n",
    "result = SpecialProduct_Division(arr)\n",
    "print(\"Product Array:\", result)"
   ]
  }
 ],
 "metadata": {
  "kernelspec": {
   "display_name": "Python 3 (ipykernel)",
   "language": "python",
   "name": "python3"
  },
  "language_info": {
   "codemirror_mode": {
    "name": "ipython",
    "version": 3
   },
   "file_extension": ".py",
   "mimetype": "text/x-python",
   "name": "python",
   "nbconvert_exporter": "python",
   "pygments_lexer": "ipython3",
   "version": "3.12.4"
  }
 },
 "nbformat": 4,
 "nbformat_minor": 5
}
