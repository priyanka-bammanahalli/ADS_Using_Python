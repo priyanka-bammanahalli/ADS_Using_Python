{
 "cells": [
  {
   "cell_type": "code",
   "execution_count": 1,
   "id": "4f103fa7-18b3-4cbc-8600-ca878c01014e",
   "metadata": {},
   "outputs": [
    {
     "name": "stdout",
     "output_type": "stream",
     "text": [
      "4\n"
     ]
    }
   ],
   "source": [
    "# Initial values\n",
    "N = 13; D = 2\n",
    "Low = 1; High = N\n",
    "# Start the binary search loop\n",
    "while Low <= High:\n",
    "    Mid = (High + Low) // 2\n",
    "    # Calculate the sum of digits of Mid\n",
    "    sum_of_digits = sum(int(digit) for digit in str(Mid))\n",
    "    \n",
    "    # Check the condition\n",
    "    if abs(Mid - sum_of_digits) <= 2:\n",
    "        Low = Mid + 1\n",
    "    else:\n",
    "        High = Mid - 1\n",
    "# At the end, return the difference (N - High)\n",
    "result = N - High\n",
    "print(result)"
   ]
  }
 ],
 "metadata": {
  "kernelspec": {
   "display_name": "Python 3 (ipykernel)",
   "language": "python",
   "name": "python3"
  },
  "language_info": {
   "codemirror_mode": {
    "name": "ipython",
    "version": 3
   },
   "file_extension": ".py",
   "mimetype": "text/x-python",
   "name": "python",
   "nbconvert_exporter": "python",
   "pygments_lexer": "ipython3",
   "version": "3.12.4"
  }
 },
 "nbformat": 4,
 "nbformat_minor": 5
}
