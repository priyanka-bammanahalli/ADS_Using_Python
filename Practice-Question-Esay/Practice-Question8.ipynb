{
 "cells": [
  {
   "cell_type": "code",
   "execution_count": 3,
   "id": "992163f6-5bf1-4b95-9dfa-c1ab05f3e670",
   "metadata": {},
   "outputs": [
    {
     "name": "stdin",
     "output_type": "stream",
     "text": [
      "Enter numbers separated by space:  4 5 7 2 3\n"
     ]
    },
    {
     "name": "stdout",
     "output_type": "stream",
     "text": [
      "Largest difference: 5\n"
     ]
    }
   ],
   "source": [
    "# 8. Write a program to find the largest difference in a set of numbers.\n",
    "numbers = list(map(int, input(\"Enter numbers separated by space: \").split()))\n",
    "print(f\"Largest difference: {max(numbers) - min(numbers)}\")"
   ]
  }
 ],
 "metadata": {
  "kernelspec": {
   "display_name": "Python 3 (ipykernel)",
   "language": "python",
   "name": "python3"
  },
  "language_info": {
   "codemirror_mode": {
    "name": "ipython",
    "version": 3
   },
   "file_extension": ".py",
   "mimetype": "text/x-python",
   "name": "python",
   "nbconvert_exporter": "python",
   "pygments_lexer": "ipython3",
   "version": "3.12.4"
  }
 },
 "nbformat": 4,
 "nbformat_minor": 5
}
