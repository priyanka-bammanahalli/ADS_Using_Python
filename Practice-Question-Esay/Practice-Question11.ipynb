{
 "cells": [
  {
   "cell_type": "code",
   "execution_count": 1,
   "id": "a0b7775a-a1f7-456d-bf56-3d5d500fdc1a",
   "metadata": {},
   "outputs": [
    {
     "name": "stdin",
     "output_type": "stream",
     "text": [
      "Enter element to insert:  55\n"
     ]
    },
    {
     "name": "stdout",
     "output_type": "stream",
     "text": [
      "Array after insertion: [10, 20, 30, 40, 50, 55]\n"
     ]
    }
   ],
   "source": [
    "# 11. Write a program to insert an element at its proper position in a previously sorted array.\n",
    "\n",
    "def insert_sorted(arr, element):\n",
    "    arr.append(element)\n",
    "    arr.sort()\n",
    "    return arr\n",
    "\n",
    "arr = [10, 20, 30, 40, 50]  # Sorted array\n",
    "element = int(input(\"Enter element to insert: \"))\n",
    "\n",
    "arr = insert_sorted(arr, element)\n",
    "print(\"Array after insertion:\", arr)"
   ]
  }
 ],
 "metadata": {
  "kernelspec": {
   "display_name": "Python 3 (ipykernel)",
   "language": "python",
   "name": "python3"
  },
  "language_info": {
   "codemirror_mode": {
    "name": "ipython",
    "version": 3
   },
   "file_extension": ".py",
   "mimetype": "text/x-python",
   "name": "python",
   "nbconvert_exporter": "python",
   "pygments_lexer": "ipython3",
   "version": "3.12.4"
  }
 },
 "nbformat": 4,
 "nbformat_minor": 5
}
