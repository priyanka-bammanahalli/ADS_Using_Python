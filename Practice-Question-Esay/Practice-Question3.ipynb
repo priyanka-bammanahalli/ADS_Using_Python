{
 "cells": [
  {
   "cell_type": "code",
   "execution_count": 3,
   "id": "31c47e29-3735-45ba-aea3-06455c50390f",
   "metadata": {},
   "outputs": [
    {
     "name": "stdin",
     "output_type": "stream",
     "text": [
      "Enter numbers separated by space:  3 4 5 6 7\n"
     ]
    },
    {
     "name": "stdout",
     "output_type": "stream",
     "text": [
      "Standard Deviation: 1.41\n"
     ]
    }
   ],
   "source": [
    "# 3. Write a program to calculate standard deviation of N numbers.\n",
    "\n",
    "import math\n",
    "\n",
    "numbers = list(map(int, input(\"Enter numbers separated by space: \").split()))\n",
    "mean = sum(numbers) / len(numbers)\n",
    "variance = sum((x - mean) ** 2 for x in numbers) / len(numbers)\n",
    "std_dev = math.sqrt(variance)\n",
    "\n",
    "print(f\"Standard Deviation: {std_dev:.2f}\")"
   ]
  },
  {
   "cell_type": "code",
   "execution_count": null,
   "id": "b79cb7ca-83d9-4f3f-9d2c-1ab4cc8d858e",
   "metadata": {},
   "outputs": [],
   "source": []
  }
 ],
 "metadata": {
  "kernelspec": {
   "display_name": "Python 3 (ipykernel)",
   "language": "python",
   "name": "python3"
  },
  "language_info": {
   "codemirror_mode": {
    "name": "ipython",
    "version": 3
   },
   "file_extension": ".py",
   "mimetype": "text/x-python",
   "name": "python",
   "nbconvert_exporter": "python",
   "pygments_lexer": "ipython3",
   "version": "3.12.4"
  }
 },
 "nbformat": 4,
 "nbformat_minor": 5
}
