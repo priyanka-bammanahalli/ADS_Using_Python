{
 "cells": [
  {
   "cell_type": "code",
   "execution_count": 3,
   "id": "92becf9d-ec64-47f4-8e38-acd7fc7868fe",
   "metadata": {},
   "outputs": [
    {
     "name": "stdin",
     "output_type": "stream",
     "text": [
      "Enter numbers separated by space:  3 5 6 8 2\n"
     ]
    },
    {
     "name": "stdout",
     "output_type": "stream",
     "text": [
      "Total odd numbers: 2\n"
     ]
    }
   ],
   "source": [
    "# 4. Write a program to count odd numbers in a set of integers.\n",
    "numbers = list(map(int, input(\"Enter numbers separated by space: \").split()))\n",
    "odd_count = sum(1 for num in numbers if num % 2 != 0)\n",
    "\n",
    "print(f\"Total odd numbers: {odd_count}\")"
   ]
  }
 ],
 "metadata": {
  "kernelspec": {
   "display_name": "Python 3 (ipykernel)",
   "language": "python",
   "name": "python3"
  },
  "language_info": {
   "codemirror_mode": {
    "name": "ipython",
    "version": 3
   },
   "file_extension": ".py",
   "mimetype": "text/x-python",
   "name": "python",
   "nbconvert_exporter": "python",
   "pygments_lexer": "ipython3",
   "version": "3.12.4"
  }
 },
 "nbformat": 4,
 "nbformat_minor": 5
}
