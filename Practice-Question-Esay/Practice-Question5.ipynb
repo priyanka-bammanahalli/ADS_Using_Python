{
 "cells": [
  {
   "cell_type": "code",
   "execution_count": 3,
   "id": "418a6338-ea9b-4588-a77a-a27e42c6c5df",
   "metadata": {},
   "outputs": [
    {
     "name": "stdin",
     "output_type": "stream",
     "text": [
      "Enter numbers separated by space:  3 4 8 9 2\n"
     ]
    },
    {
     "name": "stdout",
     "output_type": "stream",
     "text": [
      "Largest odd number: 9\n"
     ]
    }
   ],
   "source": [
    "# 5. Write a program to largest odd number in a set of integers.\n",
    "\n",
    "numbers = list(map(int, input(\"Enter numbers separated by space: \").split()))\n",
    "odd_numbers = [num for num in numbers if num % 2 != 0]\n",
    "\n",
    "print(f\"Largest odd number: {max(odd_numbers) if odd_numbers else 'No odd numbers found'}\")"
   ]
  }
 ],
 "metadata": {
  "kernelspec": {
   "display_name": "Python 3 (ipykernel)",
   "language": "python",
   "name": "python3"
  },
  "language_info": {
   "codemirror_mode": {
    "name": "ipython",
    "version": 3
   },
   "file_extension": ".py",
   "mimetype": "text/x-python",
   "name": "python",
   "nbconvert_exporter": "python",
   "pygments_lexer": "ipython3",
   "version": "3.12.4"
  }
 },
 "nbformat": 4,
 "nbformat_minor": 5
}
