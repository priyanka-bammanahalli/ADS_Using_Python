{
 "cells": [
  {
   "cell_type": "code",
   "execution_count": 1,
   "id": "814e3f9a-9c08-4dd2-a5e7-edd953d67d98",
   "metadata": {},
   "outputs": [
    {
     "name": "stdin",
     "output_type": "stream",
     "text": [
      "Enter numbers separated by space:  3 4 5 7 8\n",
      "Enter the position to delete (0-based index):  3\n"
     ]
    },
    {
     "name": "stdout",
     "output_type": "stream",
     "text": [
      "Array after deletion: [3, 4, 5, 8]\n"
     ]
    }
   ],
   "source": [
    "# 10.Write a program to delete an element from the k-th position of an array.\n",
    "\n",
    "arr = list(map(int, input(\"Enter numbers separated by space: \").split()))\n",
    "k = int(input(\"Enter the position to delete (0-based index): \"))\n",
    "\n",
    "if 0 <= k < len(arr):\n",
    "    del arr[k]\n",
    "    print(f\"Array after deletion: {arr}\")\n",
    "else:\n",
    "    print(\"Invalid position\")"
   ]
  }
 ],
 "metadata": {
  "kernelspec": {
   "display_name": "Python 3 (ipykernel)",
   "language": "python",
   "name": "python3"
  },
  "language_info": {
   "codemirror_mode": {
    "name": "ipython",
    "version": 3
   },
   "file_extension": ".py",
   "mimetype": "text/x-python",
   "name": "python",
   "nbconvert_exporter": "python",
   "pygments_lexer": "ipython3",
   "version": "3.12.4"
  }
 },
 "nbformat": 4,
 "nbformat_minor": 5
}
