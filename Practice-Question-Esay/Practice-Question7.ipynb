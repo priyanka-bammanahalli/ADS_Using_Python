{
 "cells": [
  {
   "cell_type": "code",
   "execution_count": 3,
   "id": "7689283f-1a07-4fa7-b53e-2c1326c6716a",
   "metadata": {},
   "outputs": [
    {
     "name": "stdin",
     "output_type": "stream",
     "text": [
      "Enter numbers separated by space:  4 7 8 2 3\n"
     ]
    },
    {
     "name": "stdout",
     "output_type": "stream",
     "text": [
      "Second highest element: 7\n"
     ]
    }
   ],
   "source": [
    "# 7. Write a program to find the second highest element among N inputted numbers.\n",
    "\n",
    "numbers = list(set(map(int, input(\"Enter numbers separated by space: \").split())))\n",
    "numbers.sort(reverse=True)\n",
    "\n",
    "print(f\"Second highest element: {numbers[1] if len(numbers) > 1 else 'No second highest element'}\")"
   ]
  }
 ],
 "metadata": {
  "kernelspec": {
   "display_name": "Python 3 (ipykernel)",
   "language": "python",
   "name": "python3"
  },
  "language_info": {
   "codemirror_mode": {
    "name": "ipython",
    "version": 3
   },
   "file_extension": ".py",
   "mimetype": "text/x-python",
   "name": "python",
   "nbconvert_exporter": "python",
   "pygments_lexer": "ipython3",
   "version": "3.12.4"
  }
 },
 "nbformat": 4,
 "nbformat_minor": 5
}
