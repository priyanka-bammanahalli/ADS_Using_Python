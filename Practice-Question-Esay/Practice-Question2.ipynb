{
 "cells": [
  {
   "cell_type": "code",
   "execution_count": 3,
   "id": "7150772d-ff7e-47b8-a574-c261b2067c41",
   "metadata": {},
   "outputs": [
    {
     "name": "stdin",
     "output_type": "stream",
     "text": [
      "Enter numbers separated by space:  3 4 5 6 7\n"
     ]
    },
    {
     "name": "stdout",
     "output_type": "stream",
     "text": [
      "Reversed array: [7, 6, 5, 4, 3]\n"
     ]
    }
   ],
   "source": [
    "# 2. Write a program to rearrange an array in reverse order without using a second array.\n",
    "arr = list(map(int, input(\"Enter numbers separated by space: \").split()))\n",
    "arr.reverse()  # In-place reversal\n",
    "print(f\"Reversed array: {arr}\")"
   ]
  }
 ],
 "metadata": {
  "kernelspec": {
   "display_name": "Python 3 (ipykernel)",
   "language": "python",
   "name": "python3"
  },
  "language_info": {
   "codemirror_mode": {
    "name": "ipython",
    "version": 3
   },
   "file_extension": ".py",
   "mimetype": "text/x-python",
   "name": "python",
   "nbconvert_exporter": "python",
   "pygments_lexer": "ipython3",
   "version": "3.12.4"
  }
 },
 "nbformat": 4,
 "nbformat_minor": 5
}
