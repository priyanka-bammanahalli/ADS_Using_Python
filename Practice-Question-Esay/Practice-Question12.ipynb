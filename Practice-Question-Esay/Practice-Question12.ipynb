{
 "cells": [
  {
   "cell_type": "code",
   "execution_count": null,
   "id": "05c91967-ccc8-406c-bf3b-df96970478dd",
   "metadata": {},
   "outputs": [],
   "source": [
    "# 12.Write a program to find the union of two sets of numbers.\n",
    "\n",
    "def find_union(arr1, arr2):\n",
    "    return sorted(set(arr1) | set(arr2))\n",
    "\n",
    "arr1 = list(map(int, input(\"Enter elements of first set: \").split()))\n",
    "arr2 = list(map(int, input(\"Enter elements of second set: \").split()))\n",
    "\n",
    "union_result = find_union(arr1, arr2)\n",
    "print(\"Union of the two sets:\", union_result)"
   ]
  }
 ],
 "metadata": {
  "kernelspec": {
   "display_name": "Python 3 (ipykernel)",
   "language": "python",
   "name": "python3"
  },
  "language_info": {
   "codemirror_mode": {
    "name": "ipython",
    "version": 3
   },
   "file_extension": ".py",
   "mimetype": "text/x-python",
   "name": "python",
   "nbconvert_exporter": "python",
   "pygments_lexer": "ipython3",
   "version": "3.12.4"
  }
 },
 "nbformat": 4,
 "nbformat_minor": 5
}
