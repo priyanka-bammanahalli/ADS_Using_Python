{
 "cells": [
  {
   "cell_type": "code",
   "execution_count": null,
   "id": "87fdeb4e-05d7-482d-90b1-4b567548fc1a",
   "metadata": {},
   "outputs": [],
   "source": [
    "# 1. Write a program to find the smallest element among N inputted numbers.\n",
    "def find_smallest(numbers):\n",
    "    return min(numbers)\n",
    "\n",
    "nums = list(map(int, input(\"Enter numbers: \").split()))\n",
    "print(\"Smallest element:\", find_smallest(nums))"
   ]
  }
 ],
 "metadata": {
  "kernelspec": {
   "display_name": "Python 3 (ipykernel)",
   "language": "python",
   "name": "python3"
  },
  "language_info": {
   "codemirror_mode": {
    "name": "ipython",
    "version": 3
   },
   "file_extension": ".py",
   "mimetype": "text/x-python",
   "name": "python",
   "nbconvert_exporter": "python",
   "pygments_lexer": "ipython3",
   "version": "3.12.4"
  }
 },
 "nbformat": 4,
 "nbformat_minor": 5
}
