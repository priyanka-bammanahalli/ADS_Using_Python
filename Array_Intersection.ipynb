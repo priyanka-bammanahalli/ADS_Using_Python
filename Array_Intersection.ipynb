{
 "cells": [
  {
   "cell_type": "code",
   "execution_count": 1,
   "id": "283ba4a5-ecb7-4cdb-8cab-66e773f3d6f7",
   "metadata": {},
   "outputs": [
    {
     "name": "stdout",
     "output_type": "stream",
     "text": [
      "Intersection of arrays: [4, 5, 6]\n"
     ]
    }
   ],
   "source": [
    "#Give two arrays WAP python function to find the intersection of both arrays(commom elements) use set and list concepts\n",
    "\n",
    "def find_intersection(arr1, arr2):\n",
    "    # Convert lists to sets to remove duplicates and allow set intersection\n",
    "    set1 = set(arr1)\n",
    "    set2 = set(arr2)\n",
    "    \n",
    "    # Find intersection using set & operator\n",
    "    intersection = list(set1 & set2)\n",
    "    \n",
    "    return intersection\n",
    "\n",
    "# Example usage\n",
    "arr1 = [1, 2, 3, 4, 5, 6]\n",
    "arr2 = [4, 5, 6, 7, 8, 9]\n",
    "print(\"Intersection of arrays:\", find_intersection(arr1, arr2))\n"
   ]
  },
  {
   "cell_type": "code",
   "execution_count": 5,
   "id": "044ac224-f04a-4114-bcbb-039e7e2ba004",
   "metadata": {},
   "outputs": [
    {
     "name": "stdout",
     "output_type": "stream",
     "text": [
      "[20 30]\n"
     ]
    }
   ],
   "source": [
    "import numpy as np\n",
    "x1=np.array([10,20,30,40])\n",
    "x2=np.array([20,30,50,60])\n",
    "def arr_commom(x1,x2):\n",
    "    new_arr=[]\n",
    "    for i in x1:\n",
    "        if i in x2:\n",
    "            new_arr.append(i)\n",
    "    return np.array(new_arr)\n",
    "result=arr_commom(x1,x2)\n",
    "type(result)\n",
    "print(result)"
   ]
  },
  {
   "cell_type": "code",
   "execution_count": null,
   "id": "f8d40588-2356-4ee1-a79a-0decf19ed573",
   "metadata": {},
   "outputs": [],
   "source": []
  }
 ],
 "metadata": {
  "kernelspec": {
   "display_name": "Python 3 (ipykernel)",
   "language": "python",
   "name": "python3"
  },
  "language_info": {
   "codemirror_mode": {
    "name": "ipython",
    "version": 3
   },
   "file_extension": ".py",
   "mimetype": "text/x-python",
   "name": "python",
   "nbconvert_exporter": "python",
   "pygments_lexer": "ipython3",
   "version": "3.12.7"
  }
 },
 "nbformat": 4,
 "nbformat_minor": 5
}
