{
 "cells": [
  {
   "cell_type": "code",
   "execution_count": 1,
   "id": "4c7835be-4f4d-4308-83fa-30b29f8f06b6",
   "metadata": {},
   "outputs": [
    {
     "name": "stdout",
     "output_type": "stream",
     "text": [
      "7\n"
     ]
    }
   ],
   "source": [
    "def gcd(m,n):\n",
    "    list1=[]\n",
    "    list2=[]\n",
    "    list3=[]\n",
    "    for i in range(1,m+1):\n",
    "        if m%i==0:\n",
    "            list1.append(i)\n",
    "\n",
    "    for j in range(1,n+1):\n",
    "        if n%j==0:\n",
    "            list2.append(j)\n",
    "\n",
    "    for i in list1:\n",
    "        if i in list2:\n",
    "            list3.append(i)\n",
    "    print(list3[-1])\n",
    "gcd(14,63)"
   ]
  },
  {
   "cell_type": "code",
   "execution_count": 14,
   "id": "aab9c6de-ac67-4268-affe-9ebe0a376c59",
   "metadata": {},
   "outputs": [
    {
     "name": "stdout",
     "output_type": "stream",
     "text": [
      "7\n"
     ]
    }
   ],
   "source": [
    "gcd(14,63)"
   ]
  },
  {
   "cell_type": "code",
   "execution_count": 3,
   "id": "be78081b-ecde-46cd-91dc-c1d3ba1fb3b4",
   "metadata": {},
   "outputs": [],
   "source": [
    "def gcd(m,n):\n",
    "    cf = []\n",
    "    for i in range(1,min(m,n)+1):\n",
    "        if m%i==0 and n%i==0:\n",
    "            cf.append(i)\n",
    "    return(cf[-1])"
   ]
  },
  {
   "cell_type": "code",
   "execution_count": 7,
   "id": "4f21a297-907a-40ac-9618-79a9f7559a2f",
   "metadata": {},
   "outputs": [
    {
     "data": {
      "text/plain": [
       "1"
      ]
     },
     "execution_count": 7,
     "metadata": {},
     "output_type": "execute_result"
    }
   ],
   "source": [
    "gcd(18,25)"
   ]
  },
  {
   "cell_type": "code",
   "execution_count": 3,
   "id": "c1ff1233-17dc-4426-a5e3-5a194bf78eca",
   "metadata": {},
   "outputs": [],
   "source": [
    "def gcd(m,n):\n",
    "    mrcf = 1\n",
    "    for i in range(1,min(m,n)+1):\n",
    "        if m%i==0 and n%i==0:\n",
    "            mrcf = i\n",
    "    return(mrcf)"
   ]
  },
  {
   "cell_type": "code",
   "execution_count": 5,
   "id": "d872a82c-1102-452f-b3cb-8df9d9d0dac0",
   "metadata": {},
   "outputs": [
    {
     "data": {
      "text/plain": [
       "7"
      ]
     },
     "execution_count": 5,
     "metadata": {},
     "output_type": "execute_result"
    }
   ],
   "source": [
    "gcd(14,63)"
   ]
  },
  {
   "cell_type": "code",
   "execution_count": 5,
   "id": "0216d9b6-c624-4723-9bdb-e982030e0c24",
   "metadata": {},
   "outputs": [],
   "source": [
    "def gcd(m,n):\n",
    "    \n",
    "    i = min(m,n)\n",
    "    while i > 0:\n",
    "        if m%i==0 and n%i==0:\n",
    "            return(i)\n",
    "        else:\n",
    "            i=i-1"
   ]
  },
  {
   "cell_type": "code",
   "execution_count": 7,
   "id": "7ac1b093-835b-426c-af43-1d6ba8ac0e7a",
   "metadata": {},
   "outputs": [
    {
     "data": {
      "text/plain": [
       "7"
      ]
     },
     "execution_count": 7,
     "metadata": {},
     "output_type": "execute_result"
    }
   ],
   "source": [
    "gcd(14,63)"
   ]
  },
  {
   "cell_type": "code",
   "execution_count": null,
   "id": "142e2d3d-bbd9-49ef-a551-f3dff5be2a94",
   "metadata": {},
   "outputs": [],
   "source": [
    "def gcd(m,n):\n",
    "    i = min(m,n)\n",
    "    while i > 0:\n",
    "        if m % i == 0 and n % i == 0:\n",
    "            return i\n",
    "        else:\n",
    "            i = i-1\n",
    "gcd"
   ]
  }
 ],
 "metadata": {
  "kernelspec": {
   "display_name": "Python 3 (ipykernel)",
   "language": "python",
   "name": "python3"
  },
  "language_info": {
   "codemirror_mode": {
    "name": "ipython",
    "version": 3
   },
   "file_extension": ".py",
   "mimetype": "text/x-python",
   "name": "python",
   "nbconvert_exporter": "python",
   "pygments_lexer": "ipython3",
   "version": "3.12.4"
  }
 },
 "nbformat": 4,
 "nbformat_minor": 5
}
