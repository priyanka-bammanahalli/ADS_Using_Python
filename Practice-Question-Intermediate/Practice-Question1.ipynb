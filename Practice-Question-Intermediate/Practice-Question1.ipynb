{
 "cells": [
  {
   "cell_type": "code",
   "execution_count": 1,
   "id": "eafef149-df81-4686-be9a-64b31f3d5f4b",
   "metadata": {},
   "outputs": [
    {
     "name": "stdout",
     "output_type": "stream",
     "text": [
      "Output: [1, 3, 12, 0, 0]\n"
     ]
    }
   ],
   "source": [
    "# 1. Move Zeroes to the End\n",
    "# • Problem: Write a function that moves all zeroes in an array to the end while maintaining the relative order of the non-zero elements.\n",
    "# • Input: arr = [0, 1, 0, 3, 12]\n",
    "# • Output: [1, 3, 12, 0, 0] \n",
    "\n",
    "def move_zeroes(arr):\n",
    "    non_zero_index = 0\n",
    "    for i in range(len(arr)):\n",
    "        if arr[i] != 0:\n",
    "            arr[non_zero_index], arr[i] = arr[i], arr[non_zero_index]\n",
    "            non_zero_index += 1\n",
    "    return arr\n",
    "\n",
    "arr = [0, 1, 0, 3, 12]\n",
    "print(\"Output:\", move_zeroes(arr))"
   ]
  }
 ],
 "metadata": {
  "kernelspec": {
   "display_name": "Python 3 (ipykernel)",
   "language": "python",
   "name": "python3"
  },
  "language_info": {
   "codemirror_mode": {
    "name": "ipython",
    "version": 3
   },
   "file_extension": ".py",
   "mimetype": "text/x-python",
   "name": "python",
   "nbconvert_exporter": "python",
   "pygments_lexer": "ipython3",
   "version": "3.12.4"
  }
 },
 "nbformat": 4,
 "nbformat_minor": 5
}
