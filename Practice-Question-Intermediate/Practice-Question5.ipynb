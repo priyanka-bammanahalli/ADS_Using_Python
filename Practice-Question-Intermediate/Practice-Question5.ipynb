{
 "cells": [
  {
   "cell_type": "code",
   "execution_count": 1,
   "id": "b5f6b0bd-8f56-4ad8-afb3-4c57fcdc410c",
   "metadata": {},
   "outputs": [
    {
     "name": "stdout",
     "output_type": "stream",
     "text": [
      "Output: 2\n"
     ]
    }
   ],
   "source": [
    "# 5. Minimum Number of Jumps to Reach End\n",
    "# • Problem: Given an array of integers where each element represents the maximum jump length from that position, determine the minimum number of jumps required to reach the end of the array.\n",
    "# • Input: arr = [6, 2, 4, 0, 5, 1, 1, 4, 2, 9]\n",
    "# • Output: 2 (The minimum jumps to reach the end are 6 -> 5 -> 9)\n",
    "\n",
    "def min_jumps(arr):\n",
    "    if len(arr) <= 1:\n",
    "        return 0\n",
    "    if arr[0] == 0:\n",
    "        return -1  # Cannot move forward\n",
    "\n",
    "    max_reach = arr[0]\n",
    "    steps = arr[0]\n",
    "    jumps = 1\n",
    "\n",
    "    for i in range(1, len(arr)):\n",
    "        if i == len(arr) - 1:\n",
    "            return jumps\n",
    "\n",
    "        max_reach = max(max_reach, i + arr[i])\n",
    "        steps -= 1\n",
    "\n",
    "        if steps == 0:\n",
    "            jumps += 1\n",
    "            if i >= max_reach:\n",
    "                return -1  # Not possible to reach the end\n",
    "            steps = max_reach - i\n",
    "    return -1\n",
    "\n",
    "arr = [6, 2, 4, 0, 5, 1, 1, 4, 2, 9]\n",
    "print(\"Output:\", min_jumps(arr))"
   ]
  }
 ],
 "metadata": {
  "kernelspec": {
   "display_name": "Python 3 (ipykernel)",
   "language": "python",
   "name": "python3"
  },
  "language_info": {
   "codemirror_mode": {
    "name": "ipython",
    "version": 3
   },
   "file_extension": ".py",
   "mimetype": "text/x-python",
   "name": "python",
   "nbconvert_exporter": "python",
   "pygments_lexer": "ipython3",
   "version": "3.12.4"
  }
 },
 "nbformat": 4,
 "nbformat_minor": 5
}
