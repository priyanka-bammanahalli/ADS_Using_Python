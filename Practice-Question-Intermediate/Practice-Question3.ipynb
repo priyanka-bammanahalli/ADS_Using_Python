{
 "cells": [
  {
   "cell_type": "code",
   "execution_count": 1,
   "id": "f331c33a-0a1b-4500-b4f9-e3dd70f5f5c0",
   "metadata": {},
   "outputs": [
    {
     "name": "stdout",
     "output_type": "stream",
     "text": [
      "Output: [24, 12, 8, 6]\n"
     ]
    }
   ],
   "source": [
    "# 3. Product of All Elements Except Itself\n",
    "# • Problem: Given an array of integers, return a new array such that each element at index i is the product of all the numbers in the array except the one at i.\n",
    "# • Input: arr = [1, 2, 3, 4]\n",
    "# • Output: [24, 12, 8, 6]\n",
    "\n",
    "def product_except_self(arr):\n",
    "    n = len(arr)\n",
    "    left, right, result = [1] * n, [1] * n, [1] * n\n",
    "\n",
    "    for i in range(1, n):\n",
    "        left[i] = left[i - 1] * arr[i - 1]\n",
    "\n",
    "    for i in range(n - 2, -1, -1):\n",
    "        right[i] = right[i + 1] * arr[i + 1]\n",
    "\n",
    "    for i in range(n):\n",
    "        result[i] = left[i] * right[i]\n",
    "\n",
    "    return result\n",
    "\n",
    "arr = [1, 2, 3, 4]\n",
    "print(\"Output:\", product_except_self(arr))"
   ]
  }
 ],
 "metadata": {
  "kernelspec": {
   "display_name": "Python 3 (ipykernel)",
   "language": "python",
   "name": "python3"
  },
  "language_info": {
   "codemirror_mode": {
    "name": "ipython",
    "version": 3
   },
   "file_extension": ".py",
   "mimetype": "text/x-python",
   "name": "python",
   "nbconvert_exporter": "python",
   "pygments_lexer": "ipython3",
   "version": "3.12.4"
  }
 },
 "nbformat": 4,
 "nbformat_minor": 5
}
