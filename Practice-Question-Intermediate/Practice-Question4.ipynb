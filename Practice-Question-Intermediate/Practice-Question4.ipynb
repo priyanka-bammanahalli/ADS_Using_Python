{
 "cells": [
  {
   "cell_type": "code",
   "execution_count": 1,
   "id": "fe2dd35a-c0c5-4ada-bfc9-3480553959d1",
   "metadata": {},
   "outputs": [
    {
     "name": "stdout",
     "output_type": "stream",
     "text": [
      "Output: [0, 1]\n"
     ]
    }
   ],
   "source": [
    "# 4. Two Sum Problem\n",
    "# • Problem: Given an array of integers and a target value, return the indices of the two numbers such that they add up to the target.\n",
    "# • Input: arr = [2, 7, 11, 15], target = 9\n",
    "# • Output: [0, 1] (because arr[0] + arr[1] == 9)\n",
    "\n",
    "def two_sum(arr, target):\n",
    "    num_map = {}\n",
    "    for i, num in enumerate(arr):\n",
    "        diff = target - num\n",
    "        if diff in num_map:\n",
    "            return [num_map[diff], i]\n",
    "        num_map[num] = i\n",
    "    return []\n",
    "\n",
    "arr = [2, 7, 11, 15]\n",
    "target = 9\n",
    "print(\"Output:\", two_sum(arr, target))"
   ]
  }
 ],
 "metadata": {
  "kernelspec": {
   "display_name": "Python 3 (ipykernel)",
   "language": "python",
   "name": "python3"
  },
  "language_info": {
   "codemirror_mode": {
    "name": "ipython",
    "version": 3
   },
   "file_extension": ".py",
   "mimetype": "text/x-python",
   "name": "python",
   "nbconvert_exporter": "python",
   "pygments_lexer": "ipython3",
   "version": "3.12.4"
  }
 },
 "nbformat": 4,
 "nbformat_minor": 5
}
