{
 "cells": [
  {
   "cell_type": "code",
   "execution_count": 1,
   "id": "5b0cc5c2-93c2-49e8-98a1-99e8ddd4e5bb",
   "metadata": {},
   "outputs": [
    {
     "name": "stdout",
     "output_type": "stream",
     "text": [
      "Output: [4, 5, 1, 2, 3]\n"
     ]
    }
   ],
   "source": [
    "# 2. Array rotation\n",
    "# • Problem : write a python function to rotate an array to the right kth position.\n",
    "# • Input: arr = [1,2,3,4,5]\n",
    "# • Output: [4,5,1,2,3]\n",
    "\n",
    "def rotate_array(arr, k):\n",
    "    k = k % len(arr)  # Handle cases where k > len(arr)\n",
    "    return arr[-k:] + arr[:-k]\n",
    "\n",
    "arr = [1, 2, 3, 4, 5]\n",
    "k = 2\n",
    "print(\"Output:\", rotate_array(arr, k))"
   ]
  }
 ],
 "metadata": {
  "kernelspec": {
   "display_name": "Python 3 (ipykernel)",
   "language": "python",
   "name": "python3"
  },
  "language_info": {
   "codemirror_mode": {
    "name": "ipython",
    "version": 3
   },
   "file_extension": ".py",
   "mimetype": "text/x-python",
   "name": "python",
   "nbconvert_exporter": "python",
   "pygments_lexer": "ipython3",
   "version": "3.12.4"
  }
 },
 "nbformat": 4,
 "nbformat_minor": 5
}
