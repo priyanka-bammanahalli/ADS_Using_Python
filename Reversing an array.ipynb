{
 "cells": [
  {
   "cell_type": "code",
   "execution_count": 1,
   "id": "6f1baced-8e09-41ac-b027-47a3fd9a42cd",
   "metadata": {},
   "outputs": [
    {
     "name": "stdout",
     "output_type": "stream",
     "text": [
      "<class 'numpy.ndarray'>\n",
      "[5 4 8 7 2 5 3]\n"
     ]
    }
   ],
   "source": [
    "#Slicing Method\n",
    "import numpy as np\n",
    "x = np.array([3,5,2,7,8,4,5])\n",
    "print(type(x))\n",
    "print(x[::-1])"
   ]
  },
  {
   "cell_type": "code",
   "execution_count": 3,
   "id": "12631911-9cb7-4b58-a749-d23f9f1e4dea",
   "metadata": {},
   "outputs": [
    {
     "ename": "SyntaxError",
     "evalue": "expected ':' (1714980675.py, line 5)",
     "output_type": "error",
     "traceback": [
      "\u001b[1;36m  Cell \u001b[1;32mIn[3], line 5\u001b[1;36m\u001b[0m\n\u001b[1;33m    for i in range(n-1,-1,-1)\u001b[0m\n\u001b[1;37m                             ^\u001b[0m\n\u001b[1;31mSyntaxError\u001b[0m\u001b[1;31m:\u001b[0m expected ':'\n"
     ]
    }
   ],
   "source": [
    "#Using Looping\n",
    "x = np.array([1,2,3,4,5,6,7,8,9,10])\n",
    "print(type(x))\n",
    "n = len(x)\n",
    "for i in range(n-1,-1,-1):\n",
    "    print()x[i]"
   ]
  },
  {
   "cell_type": "code",
   "execution_count": null,
   "id": "5e9f7bde-80cb-45dd-a562-4b192524e72e",
   "metadata": {},
   "outputs": [],
   "source": []
  }
 ],
 "metadata": {
  "kernelspec": {
   "display_name": "Python 3 (ipykernel)",
   "language": "python",
   "name": "python3"
  },
  "language_info": {
   "codemirror_mode": {
    "name": "ipython",
    "version": 3
   },
   "file_extension": ".py",
   "mimetype": "text/x-python",
   "name": "python",
   "nbconvert_exporter": "python",
   "pygments_lexer": "ipython3",
   "version": "3.12.4"
  }
 },
 "nbformat": 4,
 "nbformat_minor": 5
}
