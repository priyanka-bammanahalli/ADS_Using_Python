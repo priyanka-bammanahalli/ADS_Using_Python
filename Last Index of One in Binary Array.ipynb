{
 "cells": [
  {
   "cell_type": "code",
   "execution_count": 3,
   "id": "853a1764-aa00-43ee-bcd8-757300e15423",
   "metadata": {},
   "outputs": [
    {
     "name": "stdout",
     "output_type": "stream",
     "text": [
      "-1\n"
     ]
    }
   ],
   "source": [
    "import numpy as np\n",
    "arr = np.array([0,0,1,1,0,1,1,0])\n",
    "def last_index_of_one(arr):\n",
    "    # Initialize index to -1\n",
    "    index = -1\n",
    "    # Traverse the array\n",
    "    for i in range(len(arr)):\n",
    "        if arr[i] == 1:\n",
    "            index = i # Update the index when '1' is found\n",
    "        # Return the last index of '1'\n",
    "        return index\n",
    "Result = last_index_of_one(arr)\n",
    "print(Result)"
   ]
  }
 ],
 "metadata": {
  "kernelspec": {
   "display_name": "Python 3 (ipykernel)",
   "language": "python",
   "name": "python3"
  },
  "language_info": {
   "codemirror_mode": {
    "name": "ipython",
    "version": 3
   },
   "file_extension": ".py",
   "mimetype": "text/x-python",
   "name": "python",
   "nbconvert_exporter": "python",
   "pygments_lexer": "ipython3",
   "version": "3.12.4"
  }
 },
 "nbformat": 4,
 "nbformat_minor": 5
}
