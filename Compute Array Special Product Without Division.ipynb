{
 "cells": [
  {
   "cell_type": "code",
   "execution_count": 3,
   "id": "e4f0d1d3-c8ea-4901-8f73-b60377074f58",
   "metadata": {},
   "outputs": [
    {
     "name": "stdout",
     "output_type": "stream",
     "text": [
      "Original Array: [1, 2, 3, 4, 5]\n",
      "Product Array: [120, 60, 40, 30, 24]\n"
     ]
    }
   ],
   "source": [
    "def productExceptSelf(arr):\n",
    "    n = len(arr)\n",
    "    # Initialize the result list as 1\n",
    "    res = [1] * n\n",
    "    for i in range(n):\n",
    "        # Compute the product of all except arr[i]\n",
    "        for j in range(n):\n",
    "            if i != j:\n",
    "                res[i] *= arr[j]\n",
    "    return res\n",
    "\n",
    "# Input array\n",
    "arr = [1, 2, 3, 4, 5]\n",
    "print(\"Original Array:\", arr)\n",
    "\n",
    "# Calculate the special product array\n",
    "result = productExceptSelf(arr)\n",
    "print(\"Product Array:\", result)"
   ]
  }
 ],
 "metadata": {
  "kernelspec": {
   "display_name": "Python 3 (ipykernel)",
   "language": "python",
   "name": "python3"
  },
  "language_info": {
   "codemirror_mode": {
    "name": "ipython",
    "version": 3
   },
   "file_extension": ".py",
   "mimetype": "text/x-python",
   "name": "python",
   "nbconvert_exporter": "python",
   "pygments_lexer": "ipython3",
   "version": "3.12.4"
  }
 },
 "nbformat": 4,
 "nbformat_minor": 5
}
